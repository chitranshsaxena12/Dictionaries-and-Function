{
 "cells": [
  {
   "cell_type": "code",
   "execution_count": 1,
   "id": "1be8f73d",
   "metadata": {},
   "outputs": [
    {
     "name": "stdout",
     "output_type": "stream",
     "text": [
      "Enter first side of triangle:5\n",
      "Enter second side of triangle:6\n",
      "Enter third side of triangle:7\n"
     ]
    }
   ],
   "source": [
    "class area_triangle:\n",
    "    def __init__(self, a=int(input(\"Enter first side of triangle:\")), b=int(input(\"Enter second side of triangle:\")), c=int(input(\"Enter third side of triangle:\"))):\n",
    "        self.a = a\n",
    "        self.b = b\n",
    "        self.c = c\n",
    "        \n",
    "    def find_area(self):\n",
    "        s=(self.a+self.b+self.c)/2\n",
    "        area=(s*(s-self.a)*(s-self.b)*(s-self.c)) ** 0.5\n",
    "        print(\"Area of triangle is equal to:\")\n",
    "        return area\n",
    "        \n",
    "        "
   ]
  },
  {
   "cell_type": "code",
   "execution_count": 4,
   "id": "b06f6e0c",
   "metadata": {},
   "outputs": [],
   "source": [
    "area_of_triangle = area_triangle()"
   ]
  },
  {
   "cell_type": "code",
   "execution_count": 5,
   "id": "1b133751",
   "metadata": {},
   "outputs": [
    {
     "name": "stdout",
     "output_type": "stream",
     "text": [
      "Area of triangle is equal to:\n"
     ]
    },
    {
     "data": {
      "text/plain": [
       "14.696938456699069"
      ]
     },
     "execution_count": 5,
     "metadata": {},
     "output_type": "execute_result"
    }
   ],
   "source": [
    "area_of_triangle.find_area()"
   ]
  },
  {
   "cell_type": "code",
   "execution_count": 6,
   "id": "b2db9018",
   "metadata": {},
   "outputs": [],
   "source": [
    "a=[\"ram\",\"shyam\",\"chitransh\",\"ramu\",\"sita\",\"ineuron\"]\n",
    "def filter_long_words(a,b):\n",
    "    c=[]\n",
    "    for i in range(len(a)):\n",
    "           if len(a[i])>b:\n",
    "                c.append(a[i])\n",
    "    return c\n",
    "        "
   ]
  },
  {
   "cell_type": "code",
   "execution_count": 7,
   "id": "b8c3e8ba",
   "metadata": {},
   "outputs": [
    {
     "data": {
      "text/plain": [
       "['chitransh']"
      ]
     },
     "execution_count": 7,
     "metadata": {},
     "output_type": "execute_result"
    }
   ],
   "source": [
    "filter_long_words(a,8)"
   ]
  },
  {
   "cell_type": "code",
   "execution_count": 8,
   "id": "b1d22634",
   "metadata": {},
   "outputs": [
    {
     "data": {
      "text/plain": [
       "['chitransh', 'ineuron']"
      ]
     },
     "execution_count": 8,
     "metadata": {},
     "output_type": "execute_result"
    }
   ],
   "source": [
    "filter_long_words(a,5)"
   ]
  },
  {
   "cell_type": "code",
   "execution_count": 9,
   "id": "153476c2",
   "metadata": {},
   "outputs": [
    {
     "data": {
      "text/plain": [
       "['shyam', 'chitransh', 'ineuron']"
      ]
     },
     "execution_count": 9,
     "metadata": {},
     "output_type": "execute_result"
    }
   ],
   "source": [
    "filter_long_words(a,4)"
   ]
  },
  {
   "cell_type": "code",
   "execution_count": 10,
   "id": "e1691a03",
   "metadata": {},
   "outputs": [
    {
     "data": {
      "text/plain": [
       "['shyam', 'chitransh', 'ramu', 'sita', 'ineuron']"
      ]
     },
     "execution_count": 10,
     "metadata": {},
     "output_type": "execute_result"
    }
   ],
   "source": [
    "filter_long_words(a,3)"
   ]
  },
  {
   "cell_type": "code",
   "execution_count": 20,
   "id": "f52a5904",
   "metadata": {},
   "outputs": [],
   "source": [
    "a=[\"ram\",\"shyam\",\"chitransh\",\"ramu\",\"sita\",\"ineuron\"]\n",
    "def test(a):\n",
    "    c=[]\n",
    "    for i in range(len(a)):\n",
    "            b=(a[i])\n",
    "            c.append(len(b))\n",
    "    return (c)"
   ]
  },
  {
   "cell_type": "code",
   "execution_count": 21,
   "id": "956d95ec",
   "metadata": {},
   "outputs": [
    {
     "data": {
      "text/plain": [
       "[3, 5, 9, 4, 4, 7]"
      ]
     },
     "execution_count": 21,
     "metadata": {},
     "output_type": "execute_result"
    }
   ],
   "source": [
    "test(a)"
   ]
  },
  {
   "cell_type": "code",
   "execution_count": 13,
   "id": "28a2ab29",
   "metadata": {},
   "outputs": [],
   "source": [
    "def vowel(a):\n",
    "    if a==\"a\" or a==\"e\" or a==\"i\" or a==\"o\" or a==\"u\" or a==\"A\" or a==\"E\" or a==\"I\" or a==\"O\" or a==\"U\":\n",
    "        print (True)\n",
    "    else:\n",
    "        print (False)"
   ]
  },
  {
   "cell_type": "code",
   "execution_count": 14,
   "id": "6b93078c",
   "metadata": {},
   "outputs": [
    {
     "name": "stdout",
     "output_type": "stream",
     "text": [
      "True\n"
     ]
    }
   ],
   "source": [
    "vowel(\"a\")"
   ]
  },
  {
   "cell_type": "code",
   "execution_count": 15,
   "id": "3c74c0d4",
   "metadata": {},
   "outputs": [
    {
     "name": "stdout",
     "output_type": "stream",
     "text": [
      "True\n"
     ]
    }
   ],
   "source": [
    "vowel(\"e\")"
   ]
  },
  {
   "cell_type": "code",
   "execution_count": 16,
   "id": "d03ace80",
   "metadata": {},
   "outputs": [
    {
     "name": "stdout",
     "output_type": "stream",
     "text": [
      "True\n"
     ]
    }
   ],
   "source": [
    "vowel(\"i\")"
   ]
  },
  {
   "cell_type": "code",
   "execution_count": 17,
   "id": "8de7904b",
   "metadata": {},
   "outputs": [
    {
     "name": "stdout",
     "output_type": "stream",
     "text": [
      "False\n"
     ]
    }
   ],
   "source": [
    "vowel(\"q\")"
   ]
  },
  {
   "cell_type": "code",
   "execution_count": 18,
   "id": "27ac6cce",
   "metadata": {},
   "outputs": [
    {
     "name": "stdout",
     "output_type": "stream",
     "text": [
      "False\n"
     ]
    }
   ],
   "source": [
    "vowel(\"p\")"
   ]
  },
  {
   "cell_type": "code",
   "execution_count": 19,
   "id": "5de0d0b9",
   "metadata": {},
   "outputs": [
    {
     "name": "stdout",
     "output_type": "stream",
     "text": [
      "True\n"
     ]
    }
   ],
   "source": [
    "vowel(\"A\")"
   ]
  },
  {
   "cell_type": "code",
   "execution_count": null,
   "id": "da4b08c1",
   "metadata": {},
   "outputs": [],
   "source": []
  }
 ],
 "metadata": {
  "kernelspec": {
   "display_name": "Python 3 (ipykernel)",
   "language": "python",
   "name": "python3"
  },
  "language_info": {
   "codemirror_mode": {
    "name": "ipython",
    "version": 3
   },
   "file_extension": ".py",
   "mimetype": "text/x-python",
   "name": "python",
   "nbconvert_exporter": "python",
   "pygments_lexer": "ipython3",
   "version": "3.9.7"
  }
 },
 "nbformat": 4,
 "nbformat_minor": 5
}
